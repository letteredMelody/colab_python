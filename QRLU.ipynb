{
  "cells": [
    {
      "cell_type": "markdown",
      "metadata": {
        "id": "view-in-github",
        "colab_type": "text"
      },
      "source": [
        "<a href=\"https://colab.research.google.com/github/letteredMelody/colab_python/blob/main/QRLU.ipynb\" target=\"_parent\"><img src=\"https://colab.research.google.com/assets/colab-badge.svg\" alt=\"Open In Colab\"/></a>"
      ]
    },
    {
      "cell_type": "markdown",
      "metadata": {
        "deletable": true,
        "editable": true,
        "nbgrader": {
          "grade": false,
          "grade_id": "cell-8c1f707ec75db50b",
          "locked": true,
          "schema_version": 2,
          "solution": false
        },
        "id": "rdjZ6peDWfUb"
      },
      "source": [
        "Не забываем загрузить библиотеки:"
      ]
    },
    {
      "cell_type": "code",
      "execution_count": null,
      "metadata": {
        "collapsed": true,
        "deletable": true,
        "editable": true,
        "jupyter": {
          "outputs_hidden": true
        },
        "nbgrader": {
          "grade": false,
          "grade_id": "cell-853b1d54d0588609",
          "locked": true,
          "schema_version": 2,
          "solution": false
        },
        "id": "Mt0OeEq0WfUf"
      },
      "outputs": [],
      "source": [
        "# Библиотека для работы с матрицами\n",
        "import numpy as np \n",
        "\n",
        "# Алгоритмы линейной алгебры\n",
        "import scipy.linalg as sla\n",
        "\n",
        "# Библиотека для работы с разреженными матрицами\n",
        "import scipy.sparse as sps\n",
        "\n",
        "# Алгоритмы линейной алгебры для разреженных матриц\n",
        "import scipy.sparse.linalg as spla\n",
        "\n",
        "# Графическая библиотека\n",
        "import matplotlib.pyplot as plt\n",
        "\n",
        "# Позволяет отрисовывать графики и изображения прямо в ноутбуке, а не в отдельном окне. Жизненно важная вещь!\n",
        "%matplotlib inline"
      ]
    },
    {
      "source": [
        "# Теория\n",
        "\n",
        "Информация в этой клетке с википедии, при желании — переходите по ссылкам и читайте полную версию.\n",
        "\n",
        "## [Нормы](https://ru.wikipedia.org/wiki/Норма_(математика))\n",
        "Вы знаете, что в векторном пространстве над полем вещественных или комплексных чисел есть понятие длины вектора — квадратный корень из скалярного произведения вектора на самого себя.  \n",
        "Норма обобщает понятие длины вектора. Это функционал $||\\cdot||: V \\to \\mathbb{R}_+$, обладающий следующими свойствами:\n",
        "\n",
        "1. $||x|| = 0 \\Rightarrow x = 0$;\n",
        "2. $\\forall x,y \\in V,\\ ||x+y|| \\le ||x|| + ||y||$ (неравенство треугольника);\n",
        "3. $\\forall \\alpha \\in \\mathbb{R} (\\mathbb{C})\\ \\forall x \\in V,\\ ||\\alpha x|| = |\\alpha|\\cdot ||x||$.\n",
        "\n",
        "У некоторых норм есть общепринятые названия. Когда говорят об $l_p$-норме, имеют ввиду отображение\n",
        "$$\n",
        "||\\cdot||_p: V \\to \\mathbb{R}_+,\\quad ||(x_1, \\ldots, x_n)||_p = (|x_1|^p + \\ldots + |x_n|^p)^{\\frac{1}{p}}\n",
        "$$\n",
        "\n",
        "В частности, $l_2$-норма — это длина вектора, $l_1$-норма — это сумма модулей координат, норма $l_\\infty$ равна максимуму из модулей координат.\n",
        "\n",
        "Норма матрицы — это просто её норма как вектора пространства $K^{m \\times n}$ (где $K \\in \\{\\mathbb{R}, \\mathbb{C}\\}$).  \n",
        "Есть ещё операторные нормы, которые определяются через векторную норму:\n",
        "$$\n",
        "||\\varphi|| = \\sup\\limits_{||x|| = 1} ||\\varphi(x)||.\n",
        "$$\n",
        "Нас тут интересует только то, что используя любую норму, заданную на векторах, можно определить соответствующую операторную норму, которая в свою очередь определяет матричную норму.  \n",
        "Таким образом определённая матричная норма (через норму вектора) называется согласованной с соответствующей векторной нормой.\n",
        "\n",
        "## [$LU$-разложение](https://ru.wikipedia.org/wiki/LU-разложение#Вывод_формулы)\n",
        "$LU$-разложение матрицы $A$ — это представление этой матрицы в виде произведения $A = LU$ нижнетреугольной матрицы $L$ и верхнетреугольной матрицы $U$.  \n",
        "Это разложение важно при решении линейных систем. Если вы знаете такое разложение матрицы $A$, то решение СЛУ\n",
        "$$Ax = b \\Leftrightarrow LUx = b$$\n",
        "сводится к решению двух систем\n",
        "$$Ly = b \\text{ и } Ux = y$$\n",
        "c треугольными матрицами (а значит решаемыми одним прямым или обратным проходом).\n",
        "\n",
        "## [$QR$-разложение](https://ru.wikipedia.org/wiki/QR-разложение)\n",
        "$QR$-разложение матрицы $A$ — это представление этой матрицы в виде произведения $A = QR$ ортогональной (или унитарной) матрицы $Q$ и верхнетреугольной матрицы $R$.  \n",
        "\n",
        "В силу того, что $Q^*Q = I$, при известном $QR$-разложении матрицы $A$ решение СЛУ \n",
        "$$Ax = b \\Leftrightarrow QRx = b$$\n",
        "сводится к решению системы\n",
        "$$Rx = Q^* b$$\n",
        "с треугольной матрицей."
      ],
      "cell_type": "markdown",
      "metadata": {
        "id": "kxsn5NIIWfUj"
      }
    },
    {
      "source": [
        "**Задание 0 (1 балл) (теоретическое)** Найдите (по определению или в википедии), чему равны матричные нормы $l_1$ и $l_\\infty$ и докажите полученные формулы."
      ],
      "cell_type": "markdown",
      "metadata": {
        "id": "bzJcsqd6WfUk"
      }
    },
    {
      "source": [
        "Векторной $l_1$-норме соответствует матрица $\\max _{j}\\sum _{i}|a_{{ij}}|$. По определению:\n",
        "\n",
        "$$\n",
        "||A||_1 = \\sup\\limits_{||x||_1 = 1} ||Ax||_1 = \\sup\\limits_{x=1} Ax = A\n",
        "$$"
      ],
      "cell_type": "markdown",
      "metadata": {
        "id": "_M1a4FjiWfUl"
      }
    },
    {
      "source": [
        "Векторной $l_2$-норме соответствует так называемая спектральная норма матрицы, для матрицы $A$ равная корню из максимального собственного числа матрицы $A^*A$ (где $A^*$ это сопряжённая матрица):\n",
        "$$\n",
        "||A||_2 = \\sup\\limits_{||x||_2 = 1} ||Ax||_2 = \\sup\\limits_{(x,x)=1} \\sqrt{(Ax,Ax)} = \\sqrt{\\lambda_{max}(A^*A)}\n",
        "$$"
      ],
      "cell_type": "markdown",
      "metadata": {
        "id": "EUz3qo5YWfUn"
      }
    },
    {
      "cell_type": "markdown",
      "source": [
        "Векторной $l_\\infty$ норме соответствует матрица $\\max _{i}\\sum _{j}|a_{{ij}}|$. По определению:\n",
        "\n",
        "$$\n",
        "||A||_\\infty = \\sup\\limits_{||x||_\\infty = 1} ||Ax||_\\infty = \\sup\\limits_{(x, \\ldots, x) =1} (|x_1|^\\infty + \\ldots + |x_n|^\\infty)^{\\frac{1}{\\infty}} = A^*\n",
        "$$"
      ],
      "metadata": {
        "id": "EHaYuYmviTBv"
      }
    },
    {
      "cell_type": "markdown",
      "metadata": {
        "deletable": true,
        "editable": true,
        "nbgrader": {
          "grade": false,
          "grade_id": "cell-e609ec7491bb3cb0",
          "locked": true,
          "schema_version": 2,
          "solution": false
        },
        "id": "9eFq_tlYWfUo"
      },
      "source": [
        "## Вычислительные особенности\n",
        "\n",
        "С точки зрения математики матричные разложения являются точными: произведение сомножителей всегда равняется исходной матрице $A$. К сожалению, на практике этому часто мешает вычислительная погрешность. \n",
        "\n",
        "Для $LU$ разложения $l_2$-норма ошибки ошибки $||\\delta A|| = ||A - LU||$ удовлетворяет следующей оценке:\n",
        "\n",
        "$$||\\delta A|| \\leqslant ||L|| \\cdot ||U|| \\cdot O(\\varepsilon_{machine})$$\n",
        "\n",
        "А нормы $L$ и $U$ могут быть совсем нехорошими."
      ]
    },
    {
      "cell_type": "markdown",
      "metadata": {
        "deletable": true,
        "editable": true,
        "nbgrader": {
          "grade": false,
          "grade_id": "cell-1fd63ca1f729d028",
          "locked": true,
          "schema_version": 2,
          "solution": false
        },
        "id": "iZzku0exWfUq"
      },
      "source": [
        "**Задание 1 (1 балл)** Рассмотрим следующее LU-разложение:\n",
        "\n",
        "$$\n",
        "\\begin{pmatrix}\n",
        "10^{-20} & 1\\\\\n",
        "1 & 1\n",
        "\\end{pmatrix} = \\begin{pmatrix}\n",
        "1 & 0\\\\\n",
        "10^{20} & 1\n",
        "\\end{pmatrix}\\cdot\\begin{pmatrix}\n",
        "10^{-20} & 1\\\\\n",
        "0 & 1 - 10^{20}\n",
        "\\end{pmatrix}\n",
        "$$\n",
        "\n",
        "Перемножьте полученные матрицы $L$ и $U$. А теперь перемножьте такие же матрицы, только после всех единиц поставьте десятичные точки. Изменился ли ответ? Как вам кажется, почему?"
      ]
    },
    {
      "cell_type": "code",
      "execution_count": null,
      "metadata": {
        "deletable": true,
        "editable": true,
        "nbgrader": {
          "grade": true,
          "grade_id": "cell-0f110e302b60d2cb",
          "locked": false,
          "points": 1,
          "schema_version": 2,
          "solution": true
        },
        "id": "oUu-wlZ2WfUr",
        "colab": {
          "base_uri": "https://localhost:8080/"
        },
        "outputId": "23822c14-3b73-4bdb-fbd5-0e2f15ca8881"
      },
      "outputs": [
        {
          "output_type": "stream",
          "name": "stdout",
          "text": [
            "[[1e-20 1]\n",
            " [1.0 1]]\n",
            "\n",
            " [[1e-20 1.0]\n",
            " [1.0 0.0]]\n"
          ]
        }
      ],
      "source": [
        "L = np.matrix([[1, 0], [10**20, 1]])\n",
        "U = np.matrix([[10 ** -20, 1], [0, 1 - 10**20]])\n",
        "\n",
        "print(L * U)\n",
        "\n",
        "L_dot = np.matrix([[1., 0], [10**20, 1.]])\n",
        "U_dot = np.matrix([[10 ** -20, 1.], [0, 1 - 10**20]])\n",
        "\n",
        "print(\"\\n\", L_dot * U_dot)"
      ]
    },
    {
      "cell_type": "markdown",
      "source": [
        "Как можно видеть, эти матрицы различаются в последнем элементе. Эта разница обусловлена тем, что в python числа типа float и типа int различаются. Оператор ** переводит число из int во float, поэтому при перемножении мы проводим операции с разными типами данных:\n",
        "\n",
        "В первом случае - 10^20 * 1 (int) + 1 * 1 - 10^20 (int) -> 10^20 + 1 - 10^20\n",
        "Операции на больших числах работают лучше, поэтому погрешности не возникает, и 10^20 просто сокращаются.\n",
        "\n",
        "Во втором случае - 10^20 * 1. (float, так как int * float = float) + 1. * (1 - 10^20) (float) -> из-за того, что мы проводим операцию между float, возникает погрешность, а 10^-20 конвертируется в 0. "
      ],
      "metadata": {
        "id": "SWNnSIdxdS_s"
      }
    },
    {
      "cell_type": "code",
      "source": [
        "print(1 * (1 - 10**20))\n",
        "print(1. * (1 - 10**20))"
      ],
      "metadata": {
        "colab": {
          "base_uri": "https://localhost:8080/"
        },
        "id": "cA0NKG0NjBqE",
        "outputId": "492643f4-7fa7-4486-8817-a1eaa6323c4d"
      },
      "execution_count": null,
      "outputs": [
        {
          "output_type": "stream",
          "name": "stdout",
          "text": [
            "-99999999999999999999\n",
            "-1e+20\n"
          ]
        }
      ]
    },
    {
      "cell_type": "markdown",
      "metadata": {
        "deletable": true,
        "editable": true,
        "nbgrader": {
          "grade": false,
          "grade_id": "cell-807ed398d5bc3341",
          "locked": true,
          "schema_version": 2,
          "solution": false
        },
        "id": "AGrdhHhbWfUr"
      },
      "source": [
        "Отметим, что в реальных вычислениях матричные элементы почти наверняка с самого начала будут числами с плавающей точкой (а не целыми).\n",
        "\n",
        "Теперь проверьте, что будет, если вычислить QR-разложение исходной матрицы и перемножить матрицы $Q$ и $R$."
      ]
    },
    {
      "cell_type": "code",
      "execution_count": null,
      "metadata": {
        "collapsed": true,
        "deletable": true,
        "editable": true,
        "jupyter": {
          "outputs_hidden": true
        },
        "id": "rg-dnoLuWfUs",
        "colab": {
          "base_uri": "https://localhost:8080/"
        },
        "outputId": "0cacfb3f-803a-4da9-8977-5d776fb5aa07"
      },
      "outputs": [
        {
          "output_type": "stream",
          "name": "stdout",
          "text": [
            "Q-matrix:\n",
            " [[ 0. -1.]\n",
            " [-1.  0.]]\n",
            "\n",
            "R-matrix:\n",
            " [[-1. -1.]\n",
            " [ 0. -1.]]\n",
            "\n",
            "QR-matrix:\n",
            " [[0. 1.]\n",
            " [1. 1.]]\n"
          ]
        }
      ],
      "source": [
        "A = np.matrix([[10**-20, 1], [1, 1]])\n",
        "\n",
        "q, r = np.linalg.qr(A)\n",
        "\n",
        "print(\"Q-matrix:\\n\", q)\n",
        "print(\"\\nR-matrix:\\n\", r)\n",
        "\n",
        "print(\"\\nQR-matrix:\\n\", q * r)"
      ]
    },
    {
      "cell_type": "markdown",
      "source": [
        "Данный пример отлично показывает, что для numpy 10 в маленькой степени равен нулю, что может значить, что использование библиотек для таких целей не всегда разумно."
      ],
      "metadata": {
        "id": "rjzbZyGimIzc"
      }
    },
    {
      "cell_type": "markdown",
      "metadata": {
        "deletable": true,
        "editable": true,
        "nbgrader": {
          "grade": false,
          "grade_id": "cell-8f160da0693e7b65",
          "locked": true,
          "schema_version": 2,
          "solution": false
        },
        "id": "-mnNRVxdWfUs"
      },
      "source": [
        "**Выход: LU-разложение с выбором главного элемента (по столбцу)**\n",
        "\n",
        "Каждый раз ищем максимум в столбце и переставляем соответствующую строку наверх.\n",
        "\n",
        "$$\n",
        "\\begin{pmatrix}\n",
        "b_{11} & \\dots & b_{1i} & b_{1,i+1} & \\dots & b_{1n}\\\\\n",
        " & \\ddots & \\vdots & \\vdots & & \\vdots\\\\\n",
        " & & \\color{blue}{b_{ii}} & \\color{blue}{b_{i,i+1}} & \\dots & \\color{blue}{b_{in}} \\\\\n",
        " & & b_{i+1,i} & b_{i+1,i+1} & \\dots & b_{i+1,n}\\\\\n",
        " & & \\vdots & \\vdots &  & \\vdots \\\\\n",
        " & & \\color{green}{b_{ji}} & \\color{green}{b_{j,i+1}} & \\dots & \\color{green}{b_{jn}} \\\\\n",
        " & & \\vdots & \\vdots & & \\vdots\\\\\n",
        "\\end{pmatrix}\\longrightarrow\n",
        "\\begin{pmatrix}\n",
        "b_{11} & \\dots & b_{1i} & b_{1,i+1} & \\dots & b_{1n}\\\\\n",
        " & \\ddots & \\vdots & \\vdots & & \\vdots\\\\\n",
        " & & \\color{green}{b_{ji}} & \\color{green}{b_{j,i+1}} & \\dots & \\color{green}{b_{jn}} \\\\\n",
        " & & b_{i+1,i} & b_{i+1,i+1} & \\dots & b_{i+1,n}\\\\\n",
        " & & \\vdots & \\vdots &  & \\vdots \\\\\n",
        " & & \\color{blue}{b_{ii}} & \\color{blue}{b_{i,i+1}} & \\dots & \\color{blue}{b_{in}} \\\\\n",
        " & & \\vdots & \\vdots & & \\vdots\\\\\n",
        "\\end{pmatrix}\\longrightarrow\n",
        "$$\n",
        "$$\n",
        "\\longrightarrow\\begin{pmatrix}\n",
        "b_{11} & \\dots & b_{1i} & b_{1,i+1} & \\dots & b_{1n}\\\\\n",
        " & \\ddots & \\vdots & \\vdots & & \\vdots\\\\\n",
        " & & \\color{green}{b_{ji}} & \\color{green}{b_{j,i+1}} & \\dots & \\color{green}{b_{jn}} \\\\\n",
        " & & 0 & b'_{i+1,i+1} & \\dots & b'_{i+1,n}\\\\\n",
        " & & \\vdots & \\vdots &  & \\vdots \\\\\n",
        " & & 0 & b'_{i,i+1} & \\dots & b'_{in} \\\\\n",
        " & & \\vdots & \\vdots & & \\vdots\n",
        "\\end{pmatrix}\n",
        "$$\n",
        "\n",
        "Наибольший, а не первый ненулевой элемент столбца берётся потому, что чем больше число - тем меньшие погрешности потенциально вносит деление на него."
      ]
    },
    {
      "cell_type": "markdown",
      "metadata": {
        "deletable": true,
        "editable": true,
        "nbgrader": {
          "grade": false,
          "grade_id": "cell-b221c95bc45a770f",
          "locked": true,
          "schema_version": 2,
          "solution": false
        },
        "id": "lw5n31t-WfUs"
      },
      "source": [
        "Что при этом происходит? Перестановка строк матрицы равносильна умножению её слева на матрицу соответствующей перестановки. Таким образом, мы получаем равенство\n",
        "\n",
        "$$L_nP_nL_{n-1}P_{n-1}\\ldots L_2P_2L_1P_1 A = U\\qquad\\qquad(1)$$\n",
        "\n",
        "где $L_1,\\ldots,L_n$ - некоторые нижнетреугольные матрицы.\n",
        "\n",
        "**Вопрос:** Ну, и где здесь матрица $L$?!\n",
        "\n",
        "**Ответ:** Введём новые матрицы\n",
        "\n",
        "\\begin{align*}\n",
        "L'_n &= L_n\\\\\n",
        "L'_{n-1} &= P_nL_nP_{n-1}\\\\\n",
        "L'_{n-2} &= P_nP_{n-1}L_{n-1}P_n^{-1}P_{n-1}^{-1}\\\\\n",
        "&\\ldots\\\\\n",
        "L'_1 &= P_nP_{n-1}\\ldots P_2L_1P_2^{-1}\\ldots P_{n-1}^{-1}P_n^{-1}\n",
        "\\end{align*}\n",
        "\n",
        "**Упражнение.** Матрицы $L'_i$ тоже нижнетреугольные!\n",
        "\n",
        "Тогда левая часть (1) перепишется в виде\n",
        "\n",
        "$$\\underbrace{L'_nL'_{n-1}\\ldots L'_1}_{:=L^{-1}}\\underbrace{P_nP_{n-1}\\ldots P_1}_{:=P^{-1}}\\cdot A$$"
      ]
    },
    {
      "cell_type": "markdown",
      "metadata": {
        "deletable": true,
        "editable": true,
        "nbgrader": {
          "grade": false,
          "grade_id": "cell-a234642d4586c306",
          "locked": true,
          "schema_version": 2,
          "solution": false
        },
        "id": "AcL0SHeVWfUt"
      },
      "source": [
        "**Итог:** разложение вида\n",
        "$$A = PLU$$\n",
        "где $P$ - матрица перестановки.\n",
        "\n",
        "Функция `scipy.linalg.lu` в Питоне находит именно такое разложение!\n",
        "\n",
        "Все элементы $L$ не превосходят $1$, так что $||L|| \\leqslant 1$. При этом\n",
        "$$||\\Delta A|| \\leqslant ||A||\\cdot O(\\rho \\varepsilon_{machine}),$$\n",
        "где\n",
        "$$\\rho = \\frac{\\max_{i,j}|u_{ij}|}{\\max_{i,j}|a_{ij}|}$$\n",
        "Это число называется *фактором роста матрицы*.\n",
        "\n",
        "Но что, если это отношение велико?"
      ]
    },
    {
      "cell_type": "markdown",
      "metadata": {
        "deletable": true,
        "editable": true,
        "nbgrader": {
          "grade": false,
          "grade_id": "cell-03ca09cdd63fe083",
          "locked": true,
          "schema_version": 2,
          "solution": false
        },
        "id": "oI4ZAldLWfUt"
      },
      "source": [
        "**Задание 2 (1 балл)** Сгенерируйте матрицу $500\\times500$, имеющую вид\n",
        "\n",
        "$$\n",
        "\\begin{pmatrix}\n",
        "1 & 0 & 0 & \\cdots & 0 & 0 & 1\\\\\n",
        "-1 & 1 & 0 &  &  & 0 & 1\\\\\n",
        "-1 & -1 & 1 & 0  &  & 0 & 1\\\\\n",
        "\\vdots & & \\ddots & \\ddots  & \\ddots & \\vdots & \\vdots \\\\\n",
        "-1 & -1 & -1 & \\ddots & 1 & 0 & 1\\\\\n",
        "-1 & -1 & -1 &  & -1 & 1 & 1\\\\\n",
        "-1 & -1 & -1 & \\cdots & -1 & -1 & 1\n",
        "\\end{pmatrix}\n",
        "$$\n",
        "\n",
        "Например, сгенерировать сначала нулевую матрицу нужного размера, а потом заполнить её клетки правильными числами.\n",
        "\n",
        "Найдите её PLU-разложение и QR-разложение. Убедитесь, что $P = E$. Вычислите $||A - LU||_2$ и $||A - QR||_2$. Чему равен фактор роста матрицы $A$? Сделайте вывод об устойчивости (или не устойчивости) нахождения PLU-разложения."
      ]
    },
    {
      "cell_type": "code",
      "execution_count": null,
      "metadata": {
        "collapsed": true,
        "deletable": true,
        "editable": true,
        "jupyter": {
          "outputs_hidden": true
        },
        "nbgrader": {
          "grade": true,
          "grade_id": "cell-71de5e58b22a5fe9",
          "locked": false,
          "points": 1,
          "schema_version": 2,
          "solution": true
        },
        "id": "Md7nkwmPWfUu",
        "colab": {
          "base_uri": "https://localhost:8080/"
        },
        "outputId": "bba6cf13-c540-4331-ffd8-1dadc9a92e49"
      },
      "outputs": [
        {
          "output_type": "stream",
          "name": "stdout",
          "text": [
            "Matrix:\n",
            " [[ 1  0  0 ...  0  0  1]\n",
            " [-1  1  0 ...  0  0  1]\n",
            " [-1 -1  1 ...  0  0  1]\n",
            " ...\n",
            " [-1 -1 -1 ...  1  0  1]\n",
            " [-1 -1 -1 ... -1  1  1]\n",
            " [-1 -1 -1 ... -1 -1  1]]\n"
          ]
        }
      ],
      "source": [
        "A = np.full([500, 500], -1)\n",
        "A = np.tril(A)\n",
        "np.fill_diagonal(A, 1)\n",
        "A[:,-1] = 1\n",
        "\n",
        "print(\"Matrix:\\n\", A)"
      ]
    },
    {
      "cell_type": "code",
      "source": [
        "p, l, u = sla.lu(A)\n",
        "\n",
        "print(\"P-matrix:\\n\", p)\n",
        "\n",
        "print(\"\\nP is an identity matrix,\", np.array_equal(p, np.eye(500)))\n",
        "\n",
        "q, r = np.linalg.qr(A)"
      ],
      "metadata": {
        "colab": {
          "base_uri": "https://localhost:8080/"
        },
        "id": "FHvEvyDQskvK",
        "outputId": "c2e95276-3cd0-4bff-91ac-91b1f75bc0df"
      },
      "execution_count": null,
      "outputs": [
        {
          "output_type": "stream",
          "name": "stdout",
          "text": [
            "P-matrix:\n",
            " [[1. 0. 0. ... 0. 0. 0.]\n",
            " [0. 1. 0. ... 0. 0. 0.]\n",
            " [0. 0. 1. ... 0. 0. 0.]\n",
            " ...\n",
            " [0. 0. 0. ... 1. 0. 0.]\n",
            " [0. 0. 0. ... 0. 1. 0.]\n",
            " [0. 0. 0. ... 0. 0. 1.]]\n",
            "\n",
            "P is an identity matrix, True\n"
          ]
        }
      ]
    },
    {
      "cell_type": "code",
      "source": [
        "first = A - l * u\n",
        "first = np.matrix(first).transpose() * first\n",
        "first_norm, v = np.linalg.eigh(first)\n",
        "first_norm = np.sqrt(max(first_norm))\n",
        "\n",
        "print(\"||A - LU||2 = \", first_norm)\n",
        "\n",
        "second = A - q * r\n",
        "second = np.matrix(second).transpose() * second\n",
        "second_norm, v = np.linalg.eigh(second)\n",
        "second_norm = np.sqrt(max(second_norm))\n",
        "\n",
        "print(\"||A - QR||2 = \", second_norm)\n"
      ],
      "metadata": {
        "colab": {
          "base_uri": "https://localhost:8080/"
        },
        "id": "IMPGd4c3u3GE",
        "outputId": "eda52b80-d9c7-4958-c7fe-5d1309d4d66d"
      },
      "execution_count": null,
      "outputs": [
        {
          "output_type": "stream",
          "name": "stdout",
          "text": [
            "||A - LU||2 =  1.636695303948071e+150\n",
            "||A - QR||2 =  319.26596359596954\n"
          ]
        }
      ]
    },
    {
      "cell_type": "markdown",
      "source": [
        "Как можно увидеть, PLU разложение более устойчиво, чем QR, так как в случае QR разложения погрешность достаточно большая."
      ],
      "metadata": {
        "id": "zJkCdNVwyVwP"
      }
    },
    {
      "cell_type": "markdown",
      "metadata": {
        "deletable": true,
        "editable": true,
        "nbgrader": {
          "grade": false,
          "grade_id": "cell-15de45063c3828be",
          "locked": true,
          "schema_version": 2,
          "solution": false
        },
        "id": "JWgPDGhfWfUu"
      },
      "source": [
        "К счастью, на практике так редко бывает (чёрт его знает почему). Тем не менее, QR-разложение всё-таки лучше. Теоретическая оценка для ошибки QR-разложения имеет вид\n",
        "\n",
        "$$||A - QR||_2 \\leqslant ||A||_2\\cdot O(\\varepsilon_{machine})$$"
      ]
    },
    {
      "cell_type": "markdown",
      "metadata": {
        "deletable": true,
        "editable": true,
        "nbgrader": {
          "grade": false,
          "grade_id": "cell-99d91b250c3029a1",
          "locked": true,
          "schema_version": 2,
          "solution": false
        },
        "id": "WbZxP61XWfUu"
      },
      "source": [
        "**Задание 3 (1 балл)** Рассмотрим *матрицу Паскаля* $S_n = \\left(C_{i + j}^i\\right)$ ($i,j = 0,\\ldots,n-1$).\n",
        "\n",
        "Каково её LU-разложение? Выведите формулы для матриц L и U и приведите краткое обоснование прямо в ноутбуке. Не пользуйтесь функцией `scipy.linalg.lu`, чтобы его \"угадать\": матрица P будет отлична от единичной, и вы получите не то, что хотели.\n",
        "\n",
        "Каков её определитель? Обязательно обоснуйте ответ."
      ]
    },
    {
      "cell_type": "markdown",
      "metadata": {
        "deletable": true,
        "editable": true,
        "nbgrader": {
          "grade": false,
          "grade_id": "cell-3a0e90616c199cdd",
          "locked": true,
          "schema_version": 2,
          "solution": false
        },
        "id": "kNFgYYyiWfUu"
      },
      "source": [
        "Напишите функцию `my_pascal(n)`, генерирующую матрицу Паскаля размера $n\\times n$."
      ]
    },
    {
      "cell_type": "code",
      "execution_count": null,
      "metadata": {
        "collapsed": true,
        "deletable": true,
        "editable": true,
        "jupyter": {
          "outputs_hidden": true
        },
        "id": "txiGuKqCWfUv"
      },
      "outputs": [],
      "source": [
        "def my_pascal(n):\n",
        "    return sla.pascal(n)\n",
        "    raise NotImplementedError()\n"
      ]
    },
    {
      "cell_type": "markdown",
      "metadata": {
        "deletable": true,
        "editable": true,
        "nbgrader": {
          "grade": false,
          "grade_id": "cell-56cd8e8126f36e08",
          "locked": true,
          "schema_version": 2,
          "solution": false
        },
        "id": "-jDNj8ZiWfUv"
      },
      "source": [
        "Найдите норму разности $||A - PLU||_2$. Не такая уж и большая, правда?"
      ]
    },
    {
      "cell_type": "code",
      "execution_count": null,
      "metadata": {
        "collapsed": true,
        "deletable": true,
        "editable": true,
        "jupyter": {
          "outputs_hidden": true
        },
        "id": "4SDQ_iaWWfUv"
      },
      "outputs": [],
      "source": [
        "A = my_pascal(30)\n",
        "\n",
        "# Find ||A - PLU||_2 here"
      ]
    },
    {
      "cell_type": "markdown",
      "metadata": {
        "deletable": true,
        "editable": true,
        "nbgrader": {
          "grade": false,
          "grade_id": "cell-0aeaf68589e4e93e",
          "locked": true,
          "schema_version": 2,
          "solution": false
        },
        "id": "cZ9MA25LWfUv"
      },
      "source": [
        "Теперь попросим компьютер вычислить определитель матрицы Паскаля $30\\times30$ и решить простенькую систему уравнений:"
      ]
    },
    {
      "cell_type": "code",
      "execution_count": null,
      "metadata": {
        "collapsed": true,
        "deletable": true,
        "editable": true,
        "jupyter": {
          "outputs_hidden": true
        },
        "id": "0H2yYTwfWfUw"
      },
      "outputs": [],
      "source": [
        "print(sla.det(A))\n",
        "\n",
        "# Try to solve a linear system\n",
        "x = np.ones(30)\n",
        "b = A.dot(x)\n",
        "x1 = sla.solve(A, b)\n",
        "print(sla.norm(x1 - x))"
      ]
    },
    {
      "cell_type": "markdown",
      "metadata": {
        "deletable": true,
        "editable": true,
        "nbgrader": {
          "grade": false,
          "grade_id": "cell-fb043ec5385756a6",
          "locked": true,
          "schema_version": 2,
          "solution": false
        },
        "id": "tAkn4bR_WfUw"
      },
      "source": [
        "Так себе ошибка. Теперь попробуем сделать это с помощью QR-разложения. Станет ли лучше?"
      ]
    },
    {
      "cell_type": "code",
      "execution_count": null,
      "metadata": {
        "collapsed": true,
        "deletable": true,
        "editable": true,
        "jupyter": {
          "outputs_hidden": true
        },
        "id": "za1rxxp7WfUw"
      },
      "outputs": [],
      "source": [
        "Q, R = sla.qr(A)\n",
        "x2 = sla.solve_triangular(R, Q.T.dot(b))\n",
        "print sla.norm(x2 - x)"
      ]
    },
    {
      "cell_type": "markdown",
      "metadata": {
        "deletable": true,
        "editable": true,
        "nbgrader": {
          "grade": false,
          "grade_id": "cell-b6bc307685f8bfc1",
          "locked": true,
          "schema_version": 2,
          "solution": false
        },
        "id": "s1sGEE6lWfUw"
      },
      "source": [
        "Объясните полученные неприятные результаты."
      ]
    },
    {
      "cell_type": "markdown",
      "metadata": {
        "deletable": true,
        "editable": true,
        "nbgrader": {
          "grade": true,
          "grade_id": "cell-d92383a537ebe872",
          "locked": false,
          "points": 0,
          "schema_version": 2,
          "solution": true
        },
        "id": "RDMaS1RRWfUw"
      },
      "source": []
    }
  ],
  "metadata": {
    "celltoolbar": "Create Assignment",
    "kernelspec": {
      "display_name": "Python 3",
      "language": "python",
      "name": "python3"
    },
    "language_info": {
      "codemirror_mode": {
        "name": "ipython",
        "version": 3
      },
      "file_extension": ".py",
      "mimetype": "text/x-python",
      "name": "python",
      "nbconvert_exporter": "python",
      "pygments_lexer": "ipython3",
      "version": "3.7.6"
    },
    "toc": {
      "base_numbering": 1,
      "nav_menu": {},
      "number_sections": true,
      "sideBar": true,
      "skip_h1_title": false,
      "title_cell": "Table of Contents",
      "title_sidebar": "Contents",
      "toc_cell": false,
      "toc_position": {},
      "toc_section_display": true,
      "toc_window_display": false
    },
    "colab": {
      "name": "Копия блокнота \"QRLU.ipynb\"",
      "provenance": [],
      "include_colab_link": true
    }
  },
  "nbformat": 4,
  "nbformat_minor": 0
}